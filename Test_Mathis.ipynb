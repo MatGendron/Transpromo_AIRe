{
 "cells": [
  {
   "cell_type": "code",
   "execution_count": 1,
   "metadata": {},
   "outputs": [],
   "source": [
    "import tweepy\n",
    "import time\n",
    "from tweepy import OAuthHandler\n",
    "consumer_key = 'L2mPv8Oxjs2mLtBEWZZiyDy0W'\n",
    "consumer_secret = 'idPHQogjNLSKdo7ns8exk9ZXSbIsqcd4UsXd1vofliwj1s2iZj'\n",
    "access_token = '1413867470-bWJRTSz2Ece90tG1Z5IU9pmPZQvdWR10xrWqNBL'\n",
    "access_secret = '6Z0X9eJ0dLlYJj8JrqX6VcNMOOsTWpaxaFosJhiv5Xkoa'\n",
    " \n",
    "auth = OAuthHandler(consumer_key, consumer_secret)\n",
    "auth.set_access_token(access_token, access_secret)\n",
    " \n",
    "api = tweepy.API(auth)"
   ]
  },
  {
   "cell_type": "code",
   "execution_count": 2,
   "metadata": {
    "scrolled": true
   },
   "outputs": [
    {
     "name": "stdout",
     "output_type": "stream",
     "text": [
      "EmmanuelMacron\n",
      "6400646\n"
     ]
    }
   ],
   "source": [
    "user = api.get_user('EmmanuelMacron')\n",
    "print(user.screen_name)\n",
    "print(user.followers_count)"
   ]
  },
  {
   "cell_type": "code",
   "execution_count": 8,
   "metadata": {},
   "outputs": [
    {
     "name": "stdout",
     "output_type": "stream",
     "text": [
      "725\n"
     ]
    }
   ],
   "source": [
    "print(user.friends_count)"
   ]
  },
  {
   "cell_type": "code",
   "execution_count": null,
   "metadata": {},
   "outputs": [],
   "source": [
    "def limit_handled(cursor):\n",
    "    while True:\n",
    "        try:\n",
    "            yield cursor.next()\n",
    "        except tweepy.RateLimitError:\n",
    "            time.sleep(15 * 60)\n",
    "\n",
    "for follower in limit_handled(tweepy.Cursor(api.friends).items()):\n",
    "    if follower.friends_count < 300:\n",
    "        print(follower.screen_name)"
   ]
  },
  {
   "cell_type": "code",
   "execution_count": 10,
   "metadata": {},
   "outputs": [
    {
     "name": "stdout",
     "output_type": "stream",
     "text": [
      "2.9449023336085684e-05\n",
      "182\n",
      "20\n"
     ]
    }
   ],
   "source": [
    "manu = api.get_user('EmmanuelMacron')\n",
    "nb_follow = manu.friends_count\n",
    "followers_manu = []\n",
    "\n",
    "somme_follower = 0\n",
    "nb=0\n",
    "\n",
    "for follower in api.followers('EmmanuelMacron'):\n",
    "    nb+=1\n",
    "    somme_follower+=follower.followers_count\n",
    "    \n",
    "print(somme_follower/nb_follow)\n",
    "print(somme_follower)\n",
    "print(nb)"
   ]
  },
  {
   "cell_type": "code",
   "execution_count": null,
   "metadata": {},
   "outputs": [],
   "source": []
  }
 ],
 "metadata": {
  "kernelspec": {
   "display_name": "Python 3",
   "language": "python",
   "name": "python3"
  },
  "language_info": {
   "codemirror_mode": {
    "name": "ipython",
    "version": 3
   },
   "file_extension": ".py",
   "mimetype": "text/x-python",
   "name": "python",
   "nbconvert_exporter": "python",
   "pygments_lexer": "ipython3",
   "version": "3.8.5"
  }
 },
 "nbformat": 4,
 "nbformat_minor": 4
}
