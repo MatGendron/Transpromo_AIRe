{
 "cells": [
  {
   "cell_type": "code",
   "execution_count": 1,
   "metadata": {},
   "outputs": [
    {
     "name": "stdout",
     "output_type": "stream",
     "text": [
      "Requirement already satisfied: tweepy in /Users/arnaudbascop/opt/anaconda3/lib/python3.7/site-packages (3.9.0)\n",
      "Requirement already satisfied: six>=1.10.0 in /Users/arnaudbascop/opt/anaconda3/lib/python3.7/site-packages (from tweepy) (1.12.0)\n",
      "Requirement already satisfied: requests-oauthlib>=0.7.0 in /Users/arnaudbascop/opt/anaconda3/lib/python3.7/site-packages (from tweepy) (1.3.0)\n",
      "Requirement already satisfied: requests[socks]>=2.11.1 in /Users/arnaudbascop/opt/anaconda3/lib/python3.7/site-packages (from tweepy) (2.22.0)\n",
      "Requirement already satisfied: oauthlib>=3.0.0 in /Users/arnaudbascop/opt/anaconda3/lib/python3.7/site-packages (from requests-oauthlib>=0.7.0->tweepy) (3.1.0)\n",
      "Requirement already satisfied: idna<2.9,>=2.5 in /Users/arnaudbascop/opt/anaconda3/lib/python3.7/site-packages (from requests[socks]>=2.11.1->tweepy) (2.8)\n",
      "Requirement already satisfied: certifi>=2017.4.17 in /Users/arnaudbascop/opt/anaconda3/lib/python3.7/site-packages (from requests[socks]>=2.11.1->tweepy) (2019.9.11)\n",
      "Requirement already satisfied: urllib3!=1.25.0,!=1.25.1,<1.26,>=1.21.1 in /Users/arnaudbascop/opt/anaconda3/lib/python3.7/site-packages (from requests[socks]>=2.11.1->tweepy) (1.24.2)\n",
      "Requirement already satisfied: chardet<3.1.0,>=3.0.2 in /Users/arnaudbascop/opt/anaconda3/lib/python3.7/site-packages (from requests[socks]>=2.11.1->tweepy) (3.0.4)\n",
      "Requirement already satisfied: PySocks!=1.5.7,>=1.5.6; extra == \"socks\" in /Users/arnaudbascop/opt/anaconda3/lib/python3.7/site-packages (from requests[socks]>=2.11.1->tweepy) (1.7.1)\n"
     ]
    }
   ],
   "source": [
    "import sys\n",
    "!{sys.executable} -m pip install tweepy"
   ]
  },
  {
   "cell_type": "code",
   "execution_count": 2,
   "metadata": {},
   "outputs": [],
   "source": [
    "import tweepy"
   ]
  },
  {
   "cell_type": "code",
   "execution_count": 3,
   "metadata": {},
   "outputs": [],
   "source": [
    "from tweepy import OAuthHandler"
   ]
  },
  {
   "cell_type": "code",
   "execution_count": 4,
   "metadata": {},
   "outputs": [],
   "source": [
    "consumer_key = 'L2mPv8Oxjs2mLtBEWZZiyDy0W'\n",
    "consumer_secret = 'idPHQogjNLSKdo7ns8exk9ZXSbIsqcd4UsXd1vofliwj1s2iZj'\n",
    "access_token = '1413867470-bWJRTSz2Ece90tG1Z5IU9pmPZQvdWR10xrWqNBL'\n",
    "access_secret = '6Z0X9eJ0dLlYJj8JrqX6VcNMOOsTWpaxaFosJhiv5Xkoa'\n",
    " \n",
    "auth = OAuthHandler(consumer_key, consumer_secret)\n",
    "auth.set_access_token(access_token, access_secret)\n",
    " \n",
    "api = tweepy.API(auth)"
   ]
  },
  {
   "cell_type": "code",
   "execution_count": 5,
   "metadata": {},
   "outputs": [
    {
     "name": "stdout",
     "output_type": "stream",
     "text": [
      "\"Votre attente est estimée à plus de 15 minutes\" ptdr frérot jvais raccrocher bien avant\n",
      "RT @ChrisJonesGeek: I didn’t think it was possibly to love @Adele more but here we are \n",
      "https://t.co/V5FjxuQqG5\n",
      "La musique d'attente de l'assurance maladie c'est un enfer\n",
      "RT @MileyCyrus: I don’t belong to anyone. https://t.co/kUnTHCortB\n",
      "RT @YoungMoneySite: Congrats @NICKIMINAJ 👑 https://t.co/XGiUZisgcc\n",
      "Bilan MeToo par @Giulia_Fois_ https://t.co/HXGzMPxP7e\n",
      "RT @krxxsrt: on dirait un touriste\n",
      "Sucrée, chocolatée, outée, LGBT : la dernière pub Oréo s'engage délicieusement contre l'homophobie par @Giulia_Fois_ https://t.co/4MRRkbiuVW\n",
      "RT @Furkoodtr: Ptdrrrrrr chui mort \" moi je vais bientôt mourir \" il est heureux ou triste la ??? @RebeuDeter https://t.co/nWFkxPDcyo\n",
      "RT @thomas_sanguin: Stop Covid https://t.co/r2oIw76b2X\n"
     ]
    }
   ],
   "source": [
    "for status in tweepy.Cursor(api.home_timeline).items(10):\n",
    "    # Process a single status\n",
    "    print(status.text)"
   ]
  },
  {
   "cell_type": "code",
   "execution_count": 29,
   "metadata": {},
   "outputs": [
    {
     "name": "stdout",
     "output_type": "stream",
     "text": [
      "ArnaudBscp\n",
      "274\n"
     ]
    }
   ],
   "source": [
    "user = api.get_user('arnaudbscp')\n",
    "print(user.screen_name)\n",
    "print(user.followers_count)"
   ]
  },
  {
   "cell_type": "code",
   "execution_count": 31,
   "metadata": {},
   "outputs": [
    {
     "name": "stdout",
     "output_type": "stream",
     "text": [
      "Hana__heh\n",
      "dirtybiology\n",
      "PierreMaxxx\n",
      "stidodu\n",
      "zoubida78137593\n",
      "AdrianaCiuffra1\n",
      "MajorMouvement\n",
      "SinnohEmpire\n",
      "ENSC_Bordeaux\n",
      "mcb1708\n",
      "ElliiiseeeElise\n",
      "farfadome\n",
      "MJulie50350766\n",
      "ghislandiflavio\n",
      "kvdvg\n",
      "BaptisteHoyer\n",
      "Camille_ririi\n",
      "valkrystek\n",
      "juuuuuuuuu22\n",
      "SinnohContext\n",
      "DPPt_Shitpost\n",
      "lena_grillo\n",
      "paffteqpaf\n",
      "AkblyLelia\n",
      "jeanne_delannoy\n",
      "LudRius\n",
      "ClltNoe\n",
      "frt_valentine\n",
      "loanhrntx\n",
      "GabinVaneecloo\n",
      "voyovoyou\n",
      "Na6im_\n",
      "Nebuloos\n",
      "ValerieParrishh\n",
      "dixpourcent_F2\n",
      "GwendolineAyac1\n",
      "Clmnt_Payen\n",
      "elricFume\n",
      "evildass\n",
      "ThomasMilhe\n",
      "Manon_Baud\n",
      "pegasev\n",
      "holynate__\n",
      "LifeIsStrange\n",
      "yelle\n",
      "MarmarDns\n",
      "FolcolfGaming\n",
      "Ab_Dominos\n",
      "LouAnne_inlove\n",
      "__nini_______\n",
      "Jeanne_McL\n",
      "MattScz\n",
      "carocapl\n",
      "Vuibert10\n",
      "AxelleClrS\n",
      "lelecharl\n",
      "LaureenDlps\n",
      "MargotLizee\n",
      "marion_brt\n",
      "Wafisse\n",
      "ptite_vengeance\n",
      "MaxLaperouse\n",
      "FTambrun\n",
      "nuitnate\n",
      "thomas_morinn\n",
      "nao_shl\n",
      "MssnCamille\n",
      "cheyenneblme_\n",
      "Mar_Baud\n",
      "FantineLncs\n",
      "CycyFqt\n",
      "axelle_sprmnt\n",
      "lea_hrsn\n",
      "EliseMchz\n",
      "pharon_blanc\n",
      "cxlinebmt\n",
      "zanzar_a\n",
      "CouilletTom\n",
      "dylansavastano\n",
      "momeofficial\n",
      "VirgiinMojito\n",
      "LaurineCanonne\n",
      "LiliTpls\n",
      "jeanne_schill\n",
      "ceemngl\n",
      "bluetily\n",
      "nxesi_\n",
      "akb_sania\n",
      "Francoislbrn\n",
      "oceaneeeeee_\n",
      "chrls_dc\n",
      "EgooLea\n",
      "lisekwi\n",
      "abbeywoman\n",
      "ldesja_21\n",
      "ptlcam\n",
      "ThomasDrct\n",
      "Em_frd\n",
      "Ingridvlt14\n",
      "Lechuzua\n",
      "imlauranus\n",
      "zuggaramurdi\n",
      "BouezCharlotte\n",
      "alex_vrz\n",
      "marie_glsk\n",
      "LAauraMOouys\n",
      "guillaume_lct\n",
      "Marielde15\n",
      "PierreFondoux\n",
      "tommymy1402\n",
      "AlixVaneecloo\n",
      "ManonZimny\n",
      "UBerlemont\n",
      "camesaouleptn\n",
      "AliceSzabadi\n",
      "Watomonte\n",
      "violette_dmn\n",
      "marie_dlr\n",
      "leroidesroux\n",
      "Rymoustique\n",
      "mariannegtr\n",
      "VictorienMcsrt\n",
      "margaux_lrvr\n",
      "aurianebinot\n",
      "marie_dsmt\n",
      "thomas_bklm\n",
      "mathclss\n",
      "ThomasFondu\n",
      "melanielfb1\n",
      "CharlotteLfbvr\n",
      "charlesjvt\n"
     ]
    },
    {
     "ename": "RuntimeError",
     "evalue": "generator raised StopIteration",
     "output_type": "error",
     "traceback": [
      "\u001b[0;31m---------------------------------------------------------------------------\u001b[0m",
      "\u001b[0;31mStopIteration\u001b[0m                             Traceback (most recent call last)",
      "\u001b[0;32m<ipython-input-31-b4d6242b6ccb>\u001b[0m in \u001b[0;36mlimit_handled\u001b[0;34m(cursor)\u001b[0m\n\u001b[1;32m      3\u001b[0m         \u001b[0;32mtry\u001b[0m\u001b[0;34m:\u001b[0m\u001b[0;34m\u001b[0m\u001b[0;34m\u001b[0m\u001b[0m\n\u001b[0;32m----> 4\u001b[0;31m             \u001b[0;32myield\u001b[0m \u001b[0mcursor\u001b[0m\u001b[0;34m.\u001b[0m\u001b[0mnext\u001b[0m\u001b[0;34m(\u001b[0m\u001b[0;34m)\u001b[0m\u001b[0;34m\u001b[0m\u001b[0;34m\u001b[0m\u001b[0m\n\u001b[0m\u001b[1;32m      5\u001b[0m         \u001b[0;32mexcept\u001b[0m \u001b[0mtweepy\u001b[0m\u001b[0;34m.\u001b[0m\u001b[0mRateLimitError\u001b[0m\u001b[0;34m:\u001b[0m\u001b[0;34m\u001b[0m\u001b[0;34m\u001b[0m\u001b[0m\n",
      "\u001b[0;32m~/opt/anaconda3/lib/python3.7/site-packages/tweepy/cursor.py\u001b[0m in \u001b[0;36mnext\u001b[0;34m(self)\u001b[0m\n\u001b[1;32m    218\u001b[0m             \u001b[0;31m# Reached end of current page, get the next page...\u001b[0m\u001b[0;34m\u001b[0m\u001b[0;34m\u001b[0m\u001b[0;34m\u001b[0m\u001b[0m\n\u001b[0;32m--> 219\u001b[0;31m             \u001b[0mself\u001b[0m\u001b[0;34m.\u001b[0m\u001b[0mcurrent_page\u001b[0m \u001b[0;34m=\u001b[0m \u001b[0mself\u001b[0m\u001b[0;34m.\u001b[0m\u001b[0mpage_iterator\u001b[0m\u001b[0;34m.\u001b[0m\u001b[0mnext\u001b[0m\u001b[0;34m(\u001b[0m\u001b[0;34m)\u001b[0m\u001b[0;34m\u001b[0m\u001b[0;34m\u001b[0m\u001b[0m\n\u001b[0m\u001b[1;32m    220\u001b[0m             \u001b[0;32mwhile\u001b[0m \u001b[0mlen\u001b[0m\u001b[0;34m(\u001b[0m\u001b[0mself\u001b[0m\u001b[0;34m.\u001b[0m\u001b[0mcurrent_page\u001b[0m\u001b[0;34m)\u001b[0m \u001b[0;34m==\u001b[0m \u001b[0;36m0\u001b[0m\u001b[0;34m:\u001b[0m\u001b[0;34m\u001b[0m\u001b[0;34m\u001b[0m\u001b[0m\n",
      "\u001b[0;32m~/opt/anaconda3/lib/python3.7/site-packages/tweepy/cursor.py\u001b[0m in \u001b[0;36mnext\u001b[0;34m(self)\u001b[0m\n\u001b[1;32m     71\u001b[0m         \u001b[0;32mif\u001b[0m \u001b[0mself\u001b[0m\u001b[0;34m.\u001b[0m\u001b[0mnext_cursor\u001b[0m \u001b[0;34m==\u001b[0m \u001b[0;36m0\u001b[0m \u001b[0;32mor\u001b[0m \u001b[0;34m(\u001b[0m\u001b[0mself\u001b[0m\u001b[0;34m.\u001b[0m\u001b[0mlimit\u001b[0m \u001b[0;32mand\u001b[0m \u001b[0mself\u001b[0m\u001b[0;34m.\u001b[0m\u001b[0mnum_tweets\u001b[0m \u001b[0;34m==\u001b[0m \u001b[0mself\u001b[0m\u001b[0;34m.\u001b[0m\u001b[0mlimit\u001b[0m\u001b[0;34m)\u001b[0m\u001b[0;34m:\u001b[0m\u001b[0;34m\u001b[0m\u001b[0;34m\u001b[0m\u001b[0m\n\u001b[0;32m---> 72\u001b[0;31m             \u001b[0;32mraise\u001b[0m \u001b[0mStopIteration\u001b[0m\u001b[0;34m\u001b[0m\u001b[0;34m\u001b[0m\u001b[0m\n\u001b[0m\u001b[1;32m     73\u001b[0m         data, cursors = self.method(cursor=self.next_cursor,\n",
      "\u001b[0;31mStopIteration\u001b[0m: ",
      "\nThe above exception was the direct cause of the following exception:\n",
      "\u001b[0;31mRuntimeError\u001b[0m                              Traceback (most recent call last)",
      "\u001b[0;32m<ipython-input-31-b4d6242b6ccb>\u001b[0m in \u001b[0;36m<module>\u001b[0;34m\u001b[0m\n\u001b[1;32m      6\u001b[0m             \u001b[0mtime\u001b[0m\u001b[0;34m.\u001b[0m\u001b[0msleep\u001b[0m\u001b[0;34m(\u001b[0m\u001b[0;36m15\u001b[0m \u001b[0;34m*\u001b[0m \u001b[0;36m60\u001b[0m\u001b[0;34m)\u001b[0m\u001b[0;34m\u001b[0m\u001b[0;34m\u001b[0m\u001b[0m\n\u001b[1;32m      7\u001b[0m \u001b[0;34m\u001b[0m\u001b[0m\n\u001b[0;32m----> 8\u001b[0;31m \u001b[0;32mfor\u001b[0m \u001b[0mfollower\u001b[0m \u001b[0;32min\u001b[0m \u001b[0mlimit_handled\u001b[0m\u001b[0;34m(\u001b[0m\u001b[0mtweepy\u001b[0m\u001b[0;34m.\u001b[0m\u001b[0mCursor\u001b[0m\u001b[0;34m(\u001b[0m\u001b[0mapi\u001b[0m\u001b[0;34m.\u001b[0m\u001b[0mfriends\u001b[0m\u001b[0;34m)\u001b[0m\u001b[0;34m.\u001b[0m\u001b[0mitems\u001b[0m\u001b[0;34m(\u001b[0m\u001b[0;34m)\u001b[0m\u001b[0;34m)\u001b[0m\u001b[0;34m:\u001b[0m\u001b[0;34m\u001b[0m\u001b[0;34m\u001b[0m\u001b[0m\n\u001b[0m\u001b[1;32m      9\u001b[0m     \u001b[0;32mif\u001b[0m \u001b[0mfollower\u001b[0m\u001b[0;34m.\u001b[0m\u001b[0mfriends_count\u001b[0m \u001b[0;34m<\u001b[0m \u001b[0;36m300\u001b[0m\u001b[0;34m:\u001b[0m\u001b[0;34m\u001b[0m\u001b[0;34m\u001b[0m\u001b[0m\n\u001b[1;32m     10\u001b[0m         \u001b[0mprint\u001b[0m\u001b[0;34m(\u001b[0m\u001b[0mfollower\u001b[0m\u001b[0;34m.\u001b[0m\u001b[0mscreen_name\u001b[0m\u001b[0;34m)\u001b[0m\u001b[0;34m\u001b[0m\u001b[0;34m\u001b[0m\u001b[0m\n",
      "\u001b[0;31mRuntimeError\u001b[0m: generator raised StopIteration"
     ]
    }
   ],
   "source": [
    "def limit_handled(cursor):\n",
    "    while True:\n",
    "        try:\n",
    "            yield cursor.next()\n",
    "        except tweepy.RateLimitError:\n",
    "            time.sleep(15 * 60)\n",
    "\n",
    "for follower in limit_handled(tweepy.Cursor(api.friends).items()):\n",
    "    if follower.friends_count < 300:\n",
    "        print(follower.screen_name)"
   ]
  },
  {
   "cell_type": "code",
   "execution_count": null,
   "metadata": {},
   "outputs": [],
   "source": []
  }
 ],
 "metadata": {
  "kernelspec": {
   "display_name": "Python 3",
   "language": "python",
   "name": "python3"
  },
  "language_info": {
   "codemirror_mode": {
    "name": "ipython",
    "version": 3
   },
   "file_extension": ".py",
   "mimetype": "text/x-python",
   "name": "python",
   "nbconvert_exporter": "python",
   "pygments_lexer": "ipython3",
   "version": "3.7.4"
  }
 },
 "nbformat": 4,
 "nbformat_minor": 2
}
