{
 "cells": [
  {
   "cell_type": "markdown",
   "metadata": {},
   "source": [
    "# Récupération d'une grande masse de données avec un autre outil : Twint"
   ]
  },
  {
   "cell_type": "code",
   "execution_count": null,
   "metadata": {},
   "outputs": [],
   "source": [
    "import sys\n",
    "!{sys.executable} -m pip install twint"
   ]
  },
  {
   "cell_type": "code",
   "execution_count": 1,
   "metadata": {},
   "outputs": [],
   "source": [
    "import twint"
   ]
  },
  {
   "cell_type": "code",
   "execution_count": 2,
   "metadata": {},
   "outputs": [],
   "source": [
    "import pandas as pd\n",
    "from collections import Counter"
   ]
  },
  {
   "cell_type": "code",
   "execution_count": 16,
   "metadata": {},
   "outputs": [],
   "source": [
    "def get_followers(username):\n",
    "\n",
    "    c = twint.Config()\n",
    "    c.Username = username\n",
    "    c.Pandas = True\n",
    "\n",
    "    twint.run.Followers(c)\n",
    "    list_of_followers = twint.storage.panda.Follow_df\n",
    "\n",
    "    return list_of_followers"
   ]
  },
  {
   "cell_type": "code",
   "execution_count": 23,
   "metadata": {},
   "outputs": [],
   "source": [
    "followers = {}\n",
    "follower_list = []\n",
    "\n",
    "#followers['ArnaudBscp'] = get_followers('ArnaudBscp')\n",
    "#follower_list = follower_list + followers['ArnaudBscp']"
   ]
  },
  {
   "cell_type": "code",
   "execution_count": 24,
   "metadata": {},
   "outputs": [
    {
     "data": {
      "text/plain": [
       "[]"
      ]
     },
     "execution_count": 24,
     "metadata": {},
     "output_type": "execute_result"
    }
   ],
   "source": [
    "follower_list"
   ]
  },
  {
   "cell_type": "code",
   "execution_count": 25,
   "metadata": {},
   "outputs": [
    {
     "data": {
      "text/plain": [
       "{}"
      ]
     },
     "execution_count": 25,
     "metadata": {},
     "output_type": "execute_result"
    }
   ],
   "source": [
    "followers"
   ]
  },
  {
   "cell_type": "markdown",
   "metadata": {},
   "source": [
    "# utilisation de Twint sur terminal"
   ]
  },
  {
   "cell_type": "raw",
   "metadata": {},
   "source": [
    "- pip install --upgrade pip (on vérifie qu'on est au max)\n",
    "- pip install twint\n",
    "- pip3 install --user --upgrade git+https://github.com/yunusemrecatalcam/twint.git@twitter_legacy2 (correction de twint optionnelle, tester d'abord sans la ligne)\n",
    "- twint -u libe --followers -o followers_libe.csv --csv\n",
    "On stocke dans followers_figaro.csv et followers_libe.csv\n",
    "Chaque ligne contient un username Twitter"
   ]
  },
  {
   "cell_type": "markdown",
   "metadata": {},
   "source": [
    "On obtient la liste des followers plus efficacement qu'avec Tweepy.\n",
    "Du coup : \n",
    "- on récupère 300 000 ids avec tweepy et on leur associe leur compte utilisateur avec tweepy pour chaque hub\n",
    "- on utilise Twint pour parcourir les abonnements des 600 000 comptes\n",
    "- on utilise un algo pour déterminer les liens\n",
    "- on utilisera peut être tweepy pour récupérer les plus populaires si nécessaires"
   ]
  },
  {
   "cell_type": "code",
   "execution_count": null,
   "metadata": {},
   "outputs": [],
   "source": []
  }
 ],
 "metadata": {
  "kernelspec": {
   "display_name": "Python 3",
   "language": "python",
   "name": "python3"
  },
  "language_info": {
   "codemirror_mode": {
    "name": "ipython",
    "version": 3
   },
   "file_extension": ".py",
   "mimetype": "text/x-python",
   "name": "python",
   "nbconvert_exporter": "python",
   "pygments_lexer": "ipython3",
   "version": "3.7.4"
  }
 },
 "nbformat": 4,
 "nbformat_minor": 2
}
